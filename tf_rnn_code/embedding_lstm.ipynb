{
 "cells": [
  {
   "cell_type": "markdown",
   "metadata": {
    "collapsed": true,
    "pycharm": {
     "name": "#%% md\n"
    }
   },
   "source": [
    "## 基于 Embedding 与 RNN 进行文本分类"
   ]
  },
  {
   "cell_type": "code",
   "execution_count": 1,
   "metadata": {
    "pycharm": {
     "name": "#%%\n"
    }
   },
   "outputs": [],
   "source": [
    "import tensorflow.keras as keras\n",
    "import pandas as pd\n",
    "import matplotlib as mpl\n",
    "import matplotlib.pyplot as plt\n",
    "%matplotlib inline\n",
    "import numpy as np\n",
    "import sklearn\n",
    "import os\n",
    "import sys\n",
    "import time\n",
    "import tensorflow as tf"
   ]
  },
  {
   "cell_type": "code",
   "execution_count": 2,
   "metadata": {
    "pycharm": {
     "name": "#%%\n"
    }
   },
   "outputs": [
    {
     "name": "stdout",
     "output_type": "stream",
     "text": [
      "2.3.0\n",
      "sys.version_info(major=3, minor=7, micro=11, releaselevel='final', serial=0)\n",
      "matplotlib 3.4.2\n",
      "numpy 1.18.5\n",
      "pandas 1.3.3\n",
      "sklearn 1.0\n",
      "tensorflow 2.3.0\n",
      "tensorflow.keras 2.4.0\n"
     ]
    }
   ],
   "source": [
    "print(tf.__version__)\n",
    "print(sys.version_info)\n",
    "for module in mpl, np, pd, sklearn, tf, keras:\n",
    "    print(module.__name__, module.__version__)"
   ]
  },
  {
   "cell_type": "markdown",
   "metadata": {
    "pycharm": {
     "name": "#%% md\n"
    }
   },
   "source": [
    "### 1. 数据集读取与词表构建"
   ]
  },
  {
   "cell_type": "markdown",
   "metadata": {},
   "source": [
    "#### 1.1 读取数据"
   ]
  },
  {
   "cell_type": "code",
   "execution_count": 3,
   "metadata": {
    "pycharm": {
     "name": "#%%\n"
    }
   },
   "outputs": [],
   "source": [
    "# imdb 是电影评论数据集, 类别为积极与消极\n",
    "imdb = keras.datasets.imdb\n",
    "# 词表数量, 前 10000 个会被保存, 其他的会被当做特殊字符处理\n",
    "vocab_size = 10000\n",
    "# 词表的index从index_from 开始算, 因为要设置特殊字符! 0 ~ 3 是特殊字符\n",
    "index_from = 3\n",
    "\n",
    "(train_data, train_labels), (test_data, test_labels) = imdb.load_data(num_words=vocab_size, index_from=index_from)"
   ]
  },
  {
   "cell_type": "code",
   "execution_count": 4,
   "metadata": {
    "pycharm": {
     "name": "#%%\n"
    }
   },
   "outputs": [
    {
     "name": "stdout",
     "output_type": "stream",
     "text": [
      "[1, 14, 22, 16, 43, 530, 973, 1622, 1385, 65, 458, 4468, 66, 3941, 4, 173, 36, 256, 5, 25, 100, 43, 838, 112, 50, 670, 2, 9, 35, 480, 284, 5, 150, 4, 172, 112, 167, 2, 336, 385, 39, 4, 172, 4536, 1111, 17, 546, 38, 13, 447, 4, 192, 50, 16, 6, 147, 2025, 19, 14, 22, 4, 1920, 4613, 469, 4, 22, 71, 87, 12, 16, 43, 530, 38, 76, 15, 13, 1247, 4, 22, 17, 515, 17, 12, 16, 626, 18, 2, 5, 62, 386, 12, 8, 316, 8, 106, 5, 4, 2223, 5244, 16, 480, 66, 3785, 33, 4, 130, 12, 16, 38, 619, 5, 25, 124, 51, 36, 135, 48, 25, 1415, 33, 6, 22, 12, 215, 28, 77, 52, 5, 14, 407, 16, 82, 2, 8, 4, 107, 117, 5952, 15, 256, 4, 2, 7, 3766, 5, 723, 36, 71, 43, 530, 476, 26, 400, 317, 46, 7, 4, 2, 1029, 13, 104, 88, 4, 381, 15, 297, 98, 32, 2071, 56, 26, 141, 6, 194, 7486, 18, 4, 226, 22, 21, 134, 476, 26, 480, 5, 144, 30, 5535, 18, 51, 36, 28, 224, 92, 25, 104, 4, 226, 65, 16, 38, 1334, 88, 12, 16, 283, 5, 16, 4472, 113, 103, 32, 15, 16, 5345, 19, 178, 32] 1\n",
      "(25000,) (25000,)\n",
      "218 189\n"
     ]
    }
   ],
   "source": [
    "# 打印向量\n",
    "print(train_data[0], train_labels[0])\n",
    "print(train_data.shape, train_labels.shape)\n",
    "print(len(train_data[0]), len(train_data[1]))"
   ]
  },
  {
   "cell_type": "code",
   "execution_count": 5,
   "metadata": {
    "pycharm": {
     "name": "#%%\n"
    }
   },
   "outputs": [
    {
     "name": "stdout",
     "output_type": "stream",
     "text": [
      "(25000,) (25000,)\n"
     ]
    }
   ],
   "source": [
    "print(test_data.shape, test_labels.shape)"
   ]
  },
  {
   "cell_type": "markdown",
   "metadata": {},
   "source": [
    "#### 1.2 构建词表"
   ]
  },
  {
   "cell_type": "code",
   "execution_count": 6,
   "metadata": {
    "pycharm": {
     "name": "#%%\n"
    }
   },
   "outputs": [
    {
     "name": "stdout",
     "output_type": "stream",
     "text": [
      "88584\n"
     ]
    }
   ],
   "source": [
    "# 获取词表， word_index = (单词, 索引)\n",
    "word_index = imdb.get_word_index()\n",
    "print(len(word_index))"
   ]
  },
  {
   "cell_type": "code",
   "execution_count": 7,
   "metadata": {
    "pycharm": {
     "name": "#%%\n"
    }
   },
   "outputs": [
    {
     "name": "stdout",
     "output_type": "stream",
     "text": [
      "<class 'dict'>\n",
      "with 16\n",
      "one 28\n",
      "have 25\n",
      "i 10\n",
      "he 26\n",
      "as 14\n",
      "it 9\n",
      "is 6\n",
      "in 8\n",
      "but 18\n",
      "on 20\n",
      "of 4\n",
      "his 24\n",
      "all 29\n",
      "this 11\n",
      "not 21\n",
      "you 22\n",
      "a 3\n",
      "for 15\n",
      "be 27\n",
      "br 7\n",
      "the 1\n",
      "was 13\n",
      "and 2\n",
      "to 5\n",
      "film 19\n",
      "movie 17\n",
      "that 12\n",
      "are 23\n"
     ]
    }
   ],
   "source": [
    "print(type(word_index))\n",
    "# 打印前10个词表\n",
    "for word, index in word_index.items():\n",
    "    if int(index) < 30:\n",
    "        print(word , index)"
   ]
  },
  {
   "cell_type": "code",
   "execution_count": 8,
   "metadata": {
    "pycharm": {
     "name": "#%%\n"
    }
   },
   "outputs": [],
   "source": [
    "# 因为之前的设置 index_from = 3, 所以所有的索引都需要偏移3\n",
    "word_index = {word : (index + 3) for word,index in word_index.items()}"
   ]
  },
  {
   "cell_type": "code",
   "execution_count": 9,
   "metadata": {
    "pycharm": {
     "name": "#%%\n"
    }
   },
   "outputs": [],
   "source": [
    "# 设置特殊字符\n",
    "# <PAD> padding 的填充字符\n",
    "# <START> 句子的开头的填充字符\n",
    "# <UNK> 找不到字符时, 返回UNK\n",
    "# <END> 句子的末尾的特殊字符\n",
    "\n",
    "word_index['<PAD>'] = 0\n",
    "word_index['<START>'] = 1\n",
    "word_index['<UNK>'] = 2\n",
    "word_index['<END>'] = 3\n",
    "reverse_word_index = dict([(index, word) for word, index in word_index.items()])"
   ]
  },
  {
   "cell_type": "code",
   "execution_count": 10,
   "metadata": {
    "pycharm": {
     "name": "#%%\n"
    }
   },
   "outputs": [
    {
     "data": {
      "text/plain": [
       "\"<START> this film was just brilliant casting location scenery story direction everyone's really suited the part they played and you could just imagine being there robert <UNK> is an amazing actor and now the same being director <UNK> father came from the same scottish island as myself so i loved the fact there was a real connection with this film the witty remarks throughout the film were great it was just brilliant so much that i bought the film as soon as it was released for <UNK> and would recommend it to everyone to watch and the fly fishing was amazing really cried at the end it was so sad and you know what they say if you cry at a film it must have been good and this definitely was also <UNK> to the two little boy's that played the <UNK> of norman and paul they were just brilliant children are often left out of the <UNK> list i think because the stars that play them all grown up are such a big profile for the whole film but these children are amazing and should be praised for what they have done don't you think the whole story was so lovely because it was true and was someone's life after all that was shared with us all\""
      ]
     },
     "execution_count": 10,
     "metadata": {},
     "output_type": "execute_result"
    }
   ],
   "source": [
    "# 使用词表反向解析句子\n",
    "def decode_review(text_ids):\n",
    "    return \" \".join(\n",
    "        [reverse_word_index.get(word_id, \"<UNK>\") for word_id in text_ids]\n",
    "    )\n",
    "# 解析数字为真实文本\n",
    "decode_review(train_data[0])"
   ]
  },
  {
   "cell_type": "markdown",
   "metadata": {
    "pycharm": {
     "name": "#%% md\n"
    }
   },
   "source": [
    "### 2. 数据padding\n",
    "\n",
    "- padding 就是对数据进行变长处理\n",
    "    1. 处理方式: 如果数据过长, 就截断数据, 如果数据过短就使用字符(0)填充\n",
    "    2. 合并\n",
    "- keras.preprocessing.sequence.pad_sequences\n",
    "    1. value=word_index['<PAD>'] , 使用词表中 'PAD' 对应的部分进行填充\n",
    "    2. padding='post' , value : post or pre , post 就是 把 padding 放到句子的后面, pre 就是 把padding 放到句子的前面\n",
    "    3. maxlen=max_length 句子的最大长度"
   ]
  },
  {
   "cell_type": "code",
   "execution_count": 11,
   "metadata": {
    "pycharm": {
     "name": "#%%\n"
    }
   },
   "outputs": [
    {
     "name": "stdout",
     "output_type": "stream",
     "text": [
      "[   1   14   22   16   43  530  973 1622 1385   65  458 4468   66 3941\n",
      "    4  173   36  256    5   25  100   43  838  112   50  670    2    9\n",
      "   35  480  284    5  150    4  172  112  167    2  336  385   39    4\n",
      "  172 4536 1111   17  546   38   13  447    4  192   50   16    6  147\n",
      " 2025   19   14   22    4 1920 4613  469    4   22   71   87   12   16\n",
      "   43  530   38   76   15   13 1247    4   22   17  515   17   12   16\n",
      "  626   18    2    5   62  386   12    8  316    8  106    5    4 2223\n",
      " 5244   16  480   66 3785   33    4  130   12   16   38  619    5   25\n",
      "  124   51   36  135   48   25 1415   33    6   22   12  215   28   77\n",
      "   52    5   14  407   16   82    2    8    4  107  117 5952   15  256\n",
      "    4    2    7 3766    5  723   36   71   43  530  476   26  400  317\n",
      "   46    7    4    2 1029   13  104   88    4  381   15  297   98   32\n",
      " 2071   56   26  141    6  194 7486   18    4  226   22   21  134  476\n",
      "   26  480    5  144   30 5535   18   51   36   28  224   92   25  104\n",
      "    4  226   65   16   38 1334   88   12   16  283    5   16 4472  113\n",
      "  103   32   15   16 5345   19  178   32    0    0    0    0    0    0\n",
      "    0    0    0    0    0    0    0    0    0    0    0    0    0    0\n",
      "    0    0    0    0    0    0    0    0    0    0    0    0    0    0\n",
      "    0    0    0    0    0    0    0    0    0    0    0    0    0    0\n",
      "    0    0    0    0    0    0    0    0    0    0    0    0    0    0\n",
      "    0    0    0    0    0    0    0    0    0    0    0    0    0    0\n",
      "    0    0    0    0    0    0    0    0    0    0    0    0    0    0\n",
      "    0    0    0    0    0    0    0    0    0    0    0    0    0    0\n",
      "    0    0    0    0    0    0    0    0    0    0    0    0    0    0\n",
      "    0    0    0    0    0    0    0    0    0    0    0    0    0    0\n",
      "    0    0    0    0    0    0    0    0    0    0    0    0    0    0\n",
      "    0    0    0    0    0    0    0    0    0    0    0    0    0    0\n",
      "    0    0    0    0    0    0    0    0    0    0    0    0    0    0\n",
      "    0    0    0    0    0    0    0    0    0    0    0    0    0    0\n",
      "    0    0    0    0    0    0    0    0    0    0    0    0    0    0\n",
      "    0    0    0    0    0    0    0    0    0    0    0    0    0    0\n",
      "    0    0    0    0    0    0    0    0    0    0    0    0    0    0\n",
      "    0    0    0    0    0    0    0    0    0    0    0    0    0    0\n",
      "    0    0    0    0    0    0    0    0    0    0    0    0    0    0\n",
      "    0    0    0    0    0    0    0    0    0    0    0    0    0    0\n",
      "    0    0    0    0    0    0    0    0    0    0]\n"
     ]
    }
   ],
   "source": [
    "# 设置的单个句子的最长的长度\n",
    "\n",
    "max_length = 500\n",
    "\n",
    "# 对训练数据进行padding\n",
    "\n",
    "train_data = keras.preprocessing.sequence.pad_sequences(\n",
    "    train_data, # integer of list\n",
    "    value=word_index['<PAD>'] , # 使用词表中 'PAD' 对应的部分进行填充\n",
    "    padding='post' , # value : post or pre , post 就是 把 padding 放到句子的后面, pre 就是 把padding 放到句子的前面\n",
    "    maxlen=max_length # 句子的最大长度\n",
    ")\n",
    "\n",
    "test_data = keras.preprocessing.sequence.pad_sequences(\n",
    "    test_data, # integer of list\n",
    "    value=word_index['<PAD>'] , # 使用词表中 'PAD' 对应的部分进行填充\n",
    "    padding='post' , # value : post or pre , post 就是 把 padding 放到句子的后面, pre 就是 把padding 放到句子的前面\n",
    "    maxlen=max_length # 句子的最大长度\n",
    ")\n",
    "\n",
    "# 打印样本\n",
    "print(train_data[0])"
   ]
  },
  {
   "cell_type": "markdown",
   "metadata": {},
   "source": [
    "### 3. 模型构建"
   ]
  },
  {
   "cell_type": "code",
   "execution_count": 13,
   "metadata": {
    "pycharm": {
     "name": "#%%\n"
    }
   },
   "outputs": [
    {
     "name": "stdout",
     "output_type": "stream",
     "text": [
      "Model: \"sequential\"\n",
      "_________________________________________________________________\n",
      "Layer (type)                 Output Shape              Param #   \n",
      "=================================================================\n",
      "embedding_1 (Embedding)      (None, 500, 16)           160000    \n",
      "_________________________________________________________________\n",
      "bidirectional (Bidirectional (None, 64)                12544     \n",
      "_________________________________________________________________\n",
      "dense (Dense)                (None, 32)                2080      \n",
      "_________________________________________________________________\n",
      "dense_1 (Dense)              (None, 1)                 33        \n",
      "=================================================================\n",
      "Total params: 174,657\n",
      "Trainable params: 174,657\n",
      "Non-trainable params: 0\n",
      "_________________________________________________________________\n"
     ]
    }
   ],
   "source": [
    "# 每个word都转换成长度为 16 的向量\n",
    "embedding_dim = 16\n",
    "batch_size = 128\n",
    "\n",
    "# 定义模型\n",
    "single_rnn_model =  keras.models.Sequential([\n",
    "    # 1. 定义一个 [vocab_size, embedding_dim] 的矩阵\n",
    "    # 2. 注意 : train_data : [1, 14, 22, 16, 43, 530, 973, ... ] 类似于这样的索引, 1 . 14 这种的是词表中对应单词的索引\n",
    "    # 3. embedding 对每一个单词生成一个长度为 embedding_dim(16) 的向量(是向量不是矩阵, 是一维的, 注意是每一个单词)\n",
    "    # 4. 一个句子 train_data[i] 会生成一个 embedding_dim * max_length 的二位矩阵 [max_length, embedding_dim]\n",
    "    # 5. 最终会生成一个 batch_size * max_length * embedding_dim 的 三维矩阵\n",
    "    keras.layers.Embedding(\n",
    "        input_dim=vocab_size,\n",
    "        output_dim=embedding_dim,\n",
    "        input_length=max_length\n",
    "    ),\n",
    "    keras.layers.Bidirectional(\n",
    "        keras.layers.LSTM(units=32, return_sequences=False)\n",
    "    ),\n",
    "    # 添加全连接层\n",
    "    keras.layers.Dense(32, activation=\"relu\"),\n",
    "    # 输出分类结果\n",
    "    keras.layers.Dense(1, activation=\"softmax\")\n",
    "])\n",
    "\n",
    "single_rnn_model.summary()"
   ]
  },
  {
   "cell_type": "markdown",
   "metadata": {},
   "source": [
    "- Adam Optimizer是对SGD的扩展，可以代替经典的随机梯度下降法来更有效地更新网络权重\n",
    "    1. 计算效率高\n",
    "    2. 很少的内存需求\n",
    "    3. 梯度的对角线重缩放不变（这意味着亚当将梯度乘以仅带正因子的对角矩阵是不变的，以便更好地理解此堆栈交换）\n",
    "    4. 非常适合数据和/或参数较大的问题\n",
    "    5. 适用于非固定目标\n",
    "    6. 适用于非常嘈杂和/或稀疏梯度的问题\n",
    "    7. 超参数具有直观的解释，通常需要很少的调整（我们将在配置部分中对此进行详细介绍）\n",
    "\n",
    "- binary_crossentropy : 二进制交叉熵\n",
    "    1. 参考 : https://blog.csdn.net/qq_35599937/article/details/105608354"
   ]
  },
  {
   "cell_type": "code",
   "execution_count": 16,
   "metadata": {
    "pycharm": {
     "name": "#%%\n"
    }
   },
   "outputs": [],
   "source": [
    "single_rnn_model.compile(optimizer='adam', loss=\"binary_crossentropy\", metrics=['accuracy'])"
   ]
  },
  {
   "cell_type": "code",
   "execution_count": 17,
   "metadata": {
    "pycharm": {
     "name": "#%%\n"
    }
   },
   "outputs": [
    {
     "name": "stdout",
     "output_type": "stream",
     "text": [
      "Epoch 1/30\n",
      "157/157 [==============================] - 85s 541ms/step - loss: 7.6010 - accuracy: 0.5016 - val_loss: 7.7192 - val_accuracy: 0.4938\n",
      "Epoch 2/30\n",
      "157/157 [==============================] - 79s 506ms/step - loss: 7.6010 - accuracy: 0.5016 - val_loss: 7.7192 - val_accuracy: 0.4938\n",
      "Epoch 3/30\n",
      "157/157 [==============================] - 80s 507ms/step - loss: 7.6010 - accuracy: 0.5016 - val_loss: 7.7192 - val_accuracy: 0.4938\n",
      "Epoch 4/30\n",
      "157/157 [==============================] - 80s 508ms/step - loss: 7.6010 - accuracy: 0.5016 - val_loss: 7.7192 - val_accuracy: 0.4938\n",
      "Epoch 5/30\n",
      "157/157 [==============================] - 81s 516ms/step - loss: 7.6010 - accuracy: 0.5016 - val_loss: 7.7192 - val_accuracy: 0.4938\n",
      "Epoch 6/30\n",
      "157/157 [==============================] - 80s 506ms/step - loss: 7.6010 - accuracy: 0.5016 - val_loss: 7.7192 - val_accuracy: 0.4938\n",
      "Epoch 7/30\n",
      "157/157 [==============================] - 80s 507ms/step - loss: 7.6010 - accuracy: 0.5016 - val_loss: 7.7192 - val_accuracy: 0.4938\n",
      "Epoch 8/30\n",
      "157/157 [==============================] - 82s 524ms/step - loss: 7.6010 - accuracy: 0.5016 - val_loss: 7.7192 - val_accuracy: 0.4938\n",
      "Epoch 9/30\n",
      "157/157 [==============================] - 81s 518ms/step - loss: 7.6010 - accuracy: 0.5016 - val_loss: 7.7192 - val_accuracy: 0.4938\n",
      "Epoch 10/30\n",
      "157/157 [==============================] - 80s 509ms/step - loss: 7.6010 - accuracy: 0.5016 - val_loss: 7.7192 - val_accuracy: 0.4938\n",
      "Epoch 11/30\n",
      "157/157 [==============================] - 80s 510ms/step - loss: 7.6010 - accuracy: 0.5016 - val_loss: 7.7192 - val_accuracy: 0.4938\n",
      "Epoch 12/30\n",
      "157/157 [==============================] - 81s 517ms/step - loss: 7.6010 - accuracy: 0.5016 - val_loss: 7.7192 - val_accuracy: 0.4938\n",
      "Epoch 13/30\n",
      "157/157 [==============================] - 79s 506ms/step - loss: 7.6010 - accuracy: 0.5016 - val_loss: 7.7192 - val_accuracy: 0.4938\n",
      "Epoch 14/30\n",
      "157/157 [==============================] - 80s 509ms/step - loss: 7.6010 - accuracy: 0.5016 - val_loss: 7.7192 - val_accuracy: 0.4938\n",
      "Epoch 15/30\n",
      "157/157 [==============================] - 81s 517ms/step - loss: 7.6010 - accuracy: 0.5016 - val_loss: 7.7192 - val_accuracy: 0.4938\n",
      "Epoch 16/30\n",
      "157/157 [==============================] - 80s 512ms/step - loss: 7.6010 - accuracy: 0.5016 - val_loss: 7.7192 - val_accuracy: 0.4938\n",
      "Epoch 17/30\n",
      "157/157 [==============================] - 80s 510ms/step - loss: 7.6010 - accuracy: 0.5016 - val_loss: 7.7192 - val_accuracy: 0.4938\n",
      "Epoch 18/30\n",
      "157/157 [==============================] - 80s 512ms/step - loss: 7.6010 - accuracy: 0.5016 - val_loss: 7.7192 - val_accuracy: 0.4938\n",
      "Epoch 19/30\n",
      "157/157 [==============================] - 80s 512ms/step - loss: 7.6010 - accuracy: 0.5016 - val_loss: 7.7192 - val_accuracy: 0.4938\n",
      "Epoch 20/30\n",
      "157/157 [==============================] - 80s 506ms/step - loss: 7.6010 - accuracy: 0.5016 - val_loss: 7.7192 - val_accuracy: 0.4938\n",
      "Epoch 21/30\n",
      "157/157 [==============================] - 80s 509ms/step - loss: 7.6010 - accuracy: 0.5016 - val_loss: 7.7192 - val_accuracy: 0.4938\n",
      "Epoch 22/30\n",
      "157/157 [==============================] - 79s 501ms/step - loss: 7.6010 - accuracy: 0.5016 - val_loss: 7.7192 - val_accuracy: 0.4938\n",
      "Epoch 23/30\n",
      "157/157 [==============================] - 79s 504ms/step - loss: 7.6010 - accuracy: 0.5016 - val_loss: 7.7192 - val_accuracy: 0.4938\n",
      "Epoch 24/30\n",
      "157/157 [==============================] - 80s 511ms/step - loss: 7.6010 - accuracy: 0.5016 - val_loss: 7.7192 - val_accuracy: 0.4938\n",
      "Epoch 25/30\n",
      "157/157 [==============================] - 80s 507ms/step - loss: 7.6010 - accuracy: 0.5016 - val_loss: 7.7192 - val_accuracy: 0.4938\n",
      "Epoch 26/30\n",
      "157/157 [==============================] - 79s 505ms/step - loss: 7.6010 - accuracy: 0.5016 - val_loss: 7.7192 - val_accuracy: 0.4938\n",
      "Epoch 27/30\n",
      "157/157 [==============================] - 81s 514ms/step - loss: 7.6010 - accuracy: 0.5016 - val_loss: 7.7192 - val_accuracy: 0.4938\n",
      "Epoch 28/30\n",
      "157/157 [==============================] - 79s 506ms/step - loss: 7.6010 - accuracy: 0.5016 - val_loss: 7.7192 - val_accuracy: 0.4938\n",
      "Epoch 29/30\n",
      "157/157 [==============================] - 79s 503ms/step - loss: 7.6010 - accuracy: 0.5016 - val_loss: 7.7192 - val_accuracy: 0.4938\n",
      "Epoch 30/30\n",
      "157/157 [==============================] - 86s 548ms/step - loss: 7.6010 - accuracy: 0.5016 - val_loss: 7.7192 - val_accuracy: 0.4938\n"
     ]
    }
   ],
   "source": [
    "history = single_rnn_model.fit(\n",
    "    train_data, train_labels,epochs=30, batch_size=batch_size,\n",
    "    validation_split=0.2  # 设置验证集为 20% \n",
    ")"
   ]
  },
  {
   "cell_type": "code",
   "execution_count": null,
   "metadata": {},
   "outputs": [],
   "source": [
    "history.history"
   ]
  },
  {
   "cell_type": "markdown",
   "metadata": {},
   "source": [
    "### 4. 绘制图像"
   ]
  },
  {
   "cell_type": "code",
   "execution_count": null,
   "metadata": {},
   "outputs": [],
   "source": [
    "def plot_learning_curves(history, label, epochs, min_value, max_value):\n",
    "    data = {}\n",
    "    data[label] = history.history[label]\n",
    "    data[\"val_\" + label] = history.history[\"val_\" + label]\n",
    "    pd.DataFrame(data).plot(figsize=(8,5))\n",
    "    plt.grid(True)\n",
    "    plt.axis([0, epochs, min_value, max_value])\n",
    "    plt.show()\n",
    "\n",
    "# val_accuracy : 验证集的准确率\n",
    "# val_loss : 验证集的误差\n",
    "# 如下图可以看到, 验证集上的loss一段平稳过后直线上升, 说明出现了过拟合\n",
    "plot_learning_curves(history, 'accuracy', 30, 0, 1)\n",
    "plot_learning_curves(history, 'loss', 30, 0, 3)"
   ]
  },
  {
   "cell_type": "code",
   "execution_count": null,
   "metadata": {
    "pycharm": {
     "name": "#%%\n"
    }
   },
   "outputs": [],
   "source": [
    "# 使用测试集进行验证\n",
    "single_rnn_model.evaluate(test_data, test_labels, batch_size=batch_size)"
   ]
  },
  {
   "cell_type": "code",
   "execution_count": null,
   "metadata": {
    "pycharm": {
     "name": "#%%\n"
    }
   },
   "outputs": [],
   "source": []
  }
 ],
 "metadata": {
  "kernelspec": {
   "display_name": "Python 3 (ipykernel)",
   "language": "python",
   "name": "python3"
  },
  "language_info": {
   "codemirror_mode": {
    "name": "ipython",
    "version": 3
   },
   "file_extension": ".py",
   "mimetype": "text/x-python",
   "name": "python",
   "nbconvert_exporter": "python",
   "pygments_lexer": "ipython3",
   "version": "3.7.11"
  }
 },
 "nbformat": 4,
 "nbformat_minor": 1
}