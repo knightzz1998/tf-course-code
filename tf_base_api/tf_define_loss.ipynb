{
 "cells": [
  {
   "cell_type": "markdown",
   "metadata": {
    "collapsed": true,
    "pycharm": {
     "name": "#%% md\n"
    }
   },
   "source": [
    "## 1. Tensorflow 自定义损失函数\n",
    "\n",
    "- 基础数据类型\n",
    "    1. tf.constant\n",
    "    2. tf.string\n",
    "    3. tf.ragged.constant, tf.SpareTensor, tf.Variable\n",
    "- 自定义损失函数\n",
    "    1. tf.reduce_mean\n",
    "- 自定义层次\n",
    "    1. keras.layers.lambda\n",
    "    2. 继承法\n",
    "- TF.function\n",
    "    1. tf.function\n",
    "    2. tf.autograph.to_code\n",
    "    3. get_concrete_function\n",
    "- GraphDef\n",
    "    1. get_operations\n",
    "    2. get_operation_by_name\n",
    "    3. get_tensor_by_name\n",
    "    4. as_graph_def\n",
    "- 自动求导\n",
    "    1. tf.GradientTape\n",
    "    2. optimzier.apply_gradients"
   ]
  },
  {
   "cell_type": "code",
   "execution_count": 1,
   "outputs": [
    {
     "name": "stdout",
     "output_type": "stream",
     "text": [
      "2.3.0\n",
      "sys.version_info(major=3, minor=7, micro=11, releaselevel='final', serial=0)\n",
      "matplotlib 3.4.2\n",
      "numpy 1.18.5\n",
      "pandas 1.3.3\n",
      "sklearn 1.0\n",
      "tensorflow 2.3.0\n",
      "tensorflow.keras 2.4.0\n"
     ]
    }
   ],
   "source": [
    "import matplotlib as mpl\n",
    "import matplotlib.pyplot as plt\n",
    "%matplotlib inline\n",
    "import numpy as np\n",
    "import sklearn\n",
    "import pandas as pd\n",
    "import os\n",
    "import sys\n",
    "import time\n",
    "import tensorflow as tf\n",
    "\n",
    "from tensorflow import keras\n",
    "\n",
    "print(tf.__version__)\n",
    "print(sys.version_info)\n",
    "for module in mpl, np, pd, sklearn, tf, keras:\n",
    "    print(module.__name__, module.__version__)"
   ],
   "metadata": {
    "collapsed": false,
    "pycharm": {
     "name": "#%%\n"
    }
   }
  },
  {
   "cell_type": "code",
   "execution_count": null,
   "outputs": [],
   "source": [],
   "metadata": {
    "collapsed": false,
    "pycharm": {
     "name": "#%%\n"
    }
   }
  }
 ],
 "metadata": {
  "kernelspec": {
   "display_name": "Python 3",
   "language": "python",
   "name": "python3"
  },
  "language_info": {
   "codemirror_mode": {
    "name": "ipython",
    "version": 2
   },
   "file_extension": ".py",
   "mimetype": "text/x-python",
   "name": "python",
   "nbconvert_exporter": "python",
   "pygments_lexer": "ipython2",
   "version": "2.7.6"
  }
 },
 "nbformat": 4,
 "nbformat_minor": 0
}