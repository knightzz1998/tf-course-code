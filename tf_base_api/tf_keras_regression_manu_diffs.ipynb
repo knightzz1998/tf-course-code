{
 "cells": [
  {
   "cell_type": "markdown",
   "metadata": {
    "collapsed": true,
    "pycharm": {
     "name": "#%% md\n"
    }
   },
   "source": [
    "## 使用GradientTape 与Keras集合"
   ]
  },
  {
   "cell_type": "code",
   "execution_count": 2,
   "metadata": {
    "pycharm": {
     "name": "#%%\n"
    }
   },
   "outputs": [],
   "source": [
    "import tensorflow.keras as keras\n",
    "import pandas as pd\n",
    "import matplotlib as mpl\n",
    "import matplotlib.pyplot as plt\n",
    "% matplotlib inline\n",
    "import numpy as np\n",
    "import sklearn\n",
    "import os\n",
    "import sys\n",
    "import time\n",
    "import tensorflow as tf\n"
   ]
  },
  {
   "cell_type": "code",
   "execution_count": 3,
   "metadata": {
    "pycharm": {
     "name": "#%%\n"
    }
   },
   "outputs": [
    {
     "name": "stdout",
     "output_type": "stream",
     "text": [
      "2.3.0\n",
      "sys.version_info(major=3, minor=7, micro=11, releaselevel='final', serial=0)\n",
      "matplotlib 3.4.2\n",
      "numpy 1.18.5\n",
      "pandas 1.3.3\n",
      "sklearn 1.0\n",
      "tensorflow 2.3.0\n",
      "tensorflow.keras 2.4.0\n"
     ]
    }
   ],
   "source": [
    "print(tf.__version__)\n",
    "print(sys.version_info)\n",
    "for module in mpl, np, pd, sklearn, tf, keras:\n",
    "    print(module.__name__, module.__version__)"
   ]
  },
  {
   "cell_type": "markdown",
   "metadata": {
    "pycharm": {
     "name": "#%% md\n"
    }
   },
   "source": [
    "### 1. 导入数据"
   ]
  },
  {
   "cell_type": "code",
   "execution_count": 4,
   "metadata": {
    "pycharm": {
     "name": "#%%\n"
    }
   },
   "outputs": [
    {
     "name": "stdout",
     "output_type": "stream",
     "text": [
      ".. _california_housing_dataset:\n",
      "\n",
      "California Housing dataset\n",
      "--------------------------\n",
      "\n",
      "**Data Set Characteristics:**\n",
      "\n",
      "    :Number of Instances: 20640\n",
      "\n",
      "    :Number of Attributes: 8 numeric, predictive attributes and the target\n",
      "\n",
      "    :Attribute Information:\n",
      "        - MedInc        median income in block group\n",
      "        - HouseAge      median house age in block group\n",
      "        - AveRooms      average number of rooms per household\n",
      "        - AveBedrms     average number of bedrooms per household\n",
      "        - Population    block group population\n",
      "        - AveOccup      average number of household members\n",
      "        - Latitude      block group latitude\n",
      "        - Longitude     block group longitude\n",
      "\n",
      "    :Missing Attribute Values: None\n",
      "\n",
      "This dataset was obtained from the StatLib repository.\n",
      "https://www.dcc.fc.up.pt/~ltorgo/Regression/cal_housing.html\n",
      "\n",
      "The target variable is the median house value for California districts,\n",
      "expressed in hundreds of thousands of dollars ($100,000).\n",
      "\n",
      "This dataset was derived from the 1990 U.S. census, using one row per census\n",
      "block group. A block group is the smallest geographical unit for which the U.S.\n",
      "Census Bureau publishes sample data (a block group typically has a population\n",
      "of 600 to 3,000 people).\n",
      "\n",
      "An household is a group of people residing within a home. Since the average\n",
      "number of rooms and bedrooms in this dataset are provided per household, these\n",
      "columns may take surpinsingly large values for block groups with few households\n",
      "and many empty houses, such as vacation resorts.\n",
      "\n",
      "It can be downloaded/loaded using the\n",
      ":func:`sklearn.datasets.fetch_california_housing` function.\n",
      "\n",
      ".. topic:: References\n",
      "\n",
      "    - Pace, R. Kelley and Ronald Barry, Sparse Spatial Autoregressions,\n",
      "      Statistics and Probability Letters, 33 (1997) 291-297\n",
      "\n"
     ]
    }
   ],
   "source": [
    "from sklearn.datasets import fetch_california_housing\n",
    "\n",
    "# 加利福尼亚房屋数据集\n",
    "housing = fetch_california_housing()\n",
    "\n",
    "# 打印数据集描述\n",
    "print(housing.DESCR)\n"
   ]
  },
  {
   "cell_type": "code",
   "execution_count": 5,
   "metadata": {
    "pycharm": {
     "name": "#%%\n"
    }
   },
   "outputs": [
    {
     "name": "stdout",
     "output_type": "stream",
     "text": [
      "(20640, 8)\n",
      "(20640,)\n"
     ]
    }
   ],
   "source": [
    "# 打印特征shape\n",
    "print(housing.data.shape)\n",
    "# 打印结果shape\n",
    "print(housing.target.shape)"
   ]
  },
  {
   "cell_type": "code",
   "execution_count": 6,
   "metadata": {
    "pycharm": {
     "name": "#%%\n"
    }
   },
   "outputs": [
    {
     "name": "stdout",
     "output_type": "stream",
     "text": [
      "array([[ 8.32520000e+00,  4.10000000e+01,  6.98412698e+00,\n",
      "         1.02380952e+00,  3.22000000e+02,  2.55555556e+00,\n",
      "         3.78800000e+01, -1.22230000e+02],\n",
      "       [ 8.30140000e+00,  2.10000000e+01,  6.23813708e+00,\n",
      "         9.71880492e-01,  2.40100000e+03,  2.10984183e+00,\n",
      "         3.78600000e+01, -1.22220000e+02],\n",
      "       [ 7.25740000e+00,  5.20000000e+01,  8.28813559e+00,\n",
      "         1.07344633e+00,  4.96000000e+02,  2.80225989e+00,\n",
      "         3.78500000e+01, -1.22240000e+02],\n",
      "       [ 5.64310000e+00,  5.20000000e+01,  5.81735160e+00,\n",
      "         1.07305936e+00,  5.58000000e+02,  2.54794521e+00,\n",
      "         3.78500000e+01, -1.22250000e+02],\n",
      "       [ 3.84620000e+00,  5.20000000e+01,  6.28185328e+00,\n",
      "         1.08108108e+00,  5.65000000e+02,  2.18146718e+00,\n",
      "         3.78500000e+01, -1.22250000e+02]])\n",
      "array([4.526, 3.585, 3.521, 3.413, 3.422])\n"
     ]
    }
   ],
   "source": [
    "import pprint\n",
    "\n",
    "# 打印数据, pprint 和 print 类似, 但是 pprint 打出的数据结构更加完整\n",
    "pprint.pprint(housing.data[0:5])\n",
    "pprint.pprint(housing.target[0:5])"
   ]
  },
  {
   "cell_type": "markdown",
   "metadata": {},
   "source": [
    "#### 1.1 分隔数据集"
   ]
  },
  {
   "cell_type": "code",
   "execution_count": 7,
   "metadata": {
    "pycharm": {
     "name": "#%%\n"
    }
   },
   "outputs": [],
   "source": [
    "from sklearn.model_selection import train_test_split\n",
    "\n",
    "# 划分训练集和测试集\n",
    "x_train_all, x_test, y_train_all, y_test = train_test_split(housing.data, housing.target, random_state=7)\n",
    "\n",
    "# 对训练集再次划分为训练集和验证集\n",
    "x_train, x_valid, y_train, y_valid = train_test_split(x_train_all, y_train_all, random_state=20)"
   ]
  },
  {
   "cell_type": "code",
   "execution_count": 8,
   "metadata": {
    "pycharm": {
     "name": "#%%\n"
    }
   },
   "outputs": [
    {
     "name": "stdout",
     "output_type": "stream",
     "text": [
      "(15480, 8) (15480,)\n",
      "(11610, 8) (11610,)\n",
      "(3870, 8) (3870,)\n",
      "(5160, 8) (5160,)\n"
     ]
    }
   ],
   "source": [
    "# 打印shape\n",
    "print(x_train_all.shape, y_train_all.shape)\n",
    "print(x_train.shape, y_train.shape)\n",
    "print(x_valid.shape, y_valid.shape)\n",
    "print(x_test.shape, y_test.shape)"
   ]
  },
  {
   "cell_type": "markdown",
   "metadata": {
    "pycharm": {
     "name": "#%% md\n"
    }
   },
   "source": [
    "#### 1.2 数据归一化"
   ]
  },
  {
   "cell_type": "code",
   "execution_count": 9,
   "metadata": {
    "pycharm": {
     "name": "#%%\n"
    }
   },
   "outputs": [
    {
     "name": "stdout",
     "output_type": "stream",
     "text": [
      "35682.0 -124.35\n"
     ]
    }
   ],
   "source": [
    "# 打印数据的最大最小值\n",
    "print(np.max(x_train), np.min(x_train))"
   ]
  },
  {
   "cell_type": "code",
   "execution_count": 10,
   "metadata": {
    "pycharm": {
     "name": "#%%\n"
    }
   },
   "outputs": [],
   "source": [
    "# 可以看到数据集的 scale 过大, 所以我们需要做数据集的归一化\n",
    "from sklearn.preprocessing import StandardScaler\n",
    "\n",
    "scaler = StandardScaler()\n",
    "# 数据归一化\n",
    "# 注意 fit_transform 和 transform 的区别\n",
    "x_train_scaled = scaler.fit_transform(x_train)\n",
    "x_valid_scaled = scaler.fit_transform(x_valid)\n",
    "x_test_scaled = scaler.fit_transform(x_test)"
   ]
  },
  {
   "cell_type": "code",
   "execution_count": 11,
   "metadata": {
    "pycharm": {
     "name": "#%%\n"
    }
   },
   "outputs": [
    {
     "name": "stdout",
     "output_type": "stream",
     "text": [
      "94.77756736476127 -2.3750505046419277\n"
     ]
    }
   ],
   "source": [
    "print(np.max(x_train_scaled), np.min(x_train_scaled))"
   ]
  },
  {
   "cell_type": "markdown",
   "metadata": {
    "pycharm": {
     "name": "#%% md\n"
    }
   },
   "source": [
    "### 2. 搭建神经网络"
   ]
  },
  {
   "cell_type": "markdown",
   "source": [
    "#### 2.1 使用 metric\n",
    "\n",
    "- metric 会累积计算\n",
    "- 如果不想让它累积计算, 可以使用 reset_states 重置状态"
   ],
   "metadata": {
    "collapsed": false
   }
  },
  {
   "cell_type": "code",
   "execution_count": 22,
   "outputs": [
    {
     "name": "stdout",
     "output_type": "stream",
     "text": [
      "tf.Tensor(9.0, shape=(), dtype=float32)\n",
      "tf.Tensor(5.0, shape=(), dtype=float32)\n",
      "tf.Tensor(5.0, shape=(), dtype=float32)\n",
      "None\n",
      "tf.Tensor(9.0, shape=(), dtype=float32)\n",
      "tf.Tensor(1.0, shape=(), dtype=float32)\n",
      "tf.Tensor(1.0, shape=(), dtype=float32)\n"
     ]
    }
   ],
   "source": [
    "# 均方差\n",
    "metric = keras.metrics.MeanSquaredError()\n",
    "print(metric([5.], [2.]))  # 均方差为 9\n",
    "print(metric([0.], [1.]))  # 均方差为 1\n",
    "# 注意 : metric 会累积计算\n",
    "print(metric.result())\n",
    "\n",
    "print(metric.reset_states())\n",
    "\n",
    "# 如果不想让它累积计算, 可以使用 reset_states 重置状态\n",
    "print(metric([5.], [2.]))  # 均方差为 9\n",
    "metric.reset_states()\n",
    "print(metric([0.], [1.]))  # 均方差为 1\n",
    "# 注意 : metric 会累积计算\n",
    "print(metric.result())"
   ],
   "metadata": {
    "collapsed": false,
    "pycharm": {
     "name": "#%%\n"
    }
   }
  },
  {
   "cell_type": "code",
   "execution_count": 28,
   "metadata": {
    "pycharm": {
     "name": "#%%\n"
    }
   },
   "outputs": [],
   "source": [
    "# 1. batch 遍历训练接 metric\n",
    "# 1.1 自动求导\n",
    "# 2. epoch 结束, 验证集 metric\n",
    "\n",
    "epochs = 20\n",
    "batch_size = 32\n",
    "# // 表示整数除法, 返回值是整数\n",
    "# 计算轮数, 每次训练 batch_size 数据\n",
    "steps_per_epoch = len(x_train_scaled) // batch_size\n",
    "optimizer = keras.optimizers.SGD()\n",
    "metric = keras.metrics.MeanSquaredError()\n",
    "\n",
    "\n",
    "# 随机读取训练数据\n",
    "def random_batch(x, y, batch_size=32):\n",
    "    idx = np.random.randint(0, len(x), size=batch_size)\n",
    "    #  x[idx] , 这种写法要求x必须是numpy数组, 传入索引, 返回对应索引的数据\n",
    "    return x[idx], y[idx]\n",
    "\n",
    "\n",
    "model = keras.Sequential([\n",
    "    keras.layers.Dense(units=30, activation='relu', input_shape=x_train.shape[1:]),  # x_train.shape[1:] (8,)\n",
    "    keras.layers.Dense(units=1)\n",
    "])\n"
   ]
  },
  {
   "cell_type": "code",
   "execution_count": 29,
   "outputs": [
    {
     "name": "stdout",
     "output_type": "stream",
     "text": [
      " Epoch  0  train mse :  1.7367289\t valid mse :  1.382116184 0  train mse :  2.0070326 0  train mse :  1.8763909 0  train mse :  1.84290151.69161630  train mse :  1.821\n",
      " Epoch  1  train mse :  1.27701371.3048114\t valid mse :  1.3464397\n",
      " Epoch  2  train mse :  1.2732786\t valid mse :  1.3395517\n",
      " Epoch  3  train mse :  1.2411273\t valid mse :  1.336819412 3  train mse :  1.1845381 3  train mse :  1.19248683  train mse :  1.2370757\n",
      " Epoch  4  train mse :  1.2605356\t valid mse :  1.336759757 train mse :  1.2489989 train mse :  1.2602865\n",
      " Epoch  5  train mse :  1.2886124\t valid mse :  1.3329636\n",
      " Epoch  6  train mse :  1.2735722\t valid mse :  1.335649369 train mse :  1.284568\n",
      " Epoch  7  train mse :  1.2823801\t valid mse :  1.339485\n",
      " Epoch  8  train mse :  1.2690874\t valid mse :  1.3332739\n",
      " Epoch  9  train mse :  1.2906994\t valid mse :  1.3332874\n",
      " Epoch  10  train mse :  1.3029801\t valid mse :  1.3366023464 train mse :  1.2894286 10  train mse :  1.289089\n",
      " Epoch  11  train mse :  1.2976263\t valid mse :  1.3347052422\n",
      " Epoch  12  train mse :  1.2554139\t valid mse :  1.33302881.23627771.2501004 train mse :  1.2481502\n",
      " Epoch  13  train mse :  1.2790631\t valid mse :  1.3334002\n",
      " Epoch  14  train mse :  1.2998261\t valid mse :  1.3393123403  train mse :  1.2795442 14  train mse :  1.2892314\n",
      " Epoch  15  train mse :  1.2853993\t valid mse :  1.3313668\n",
      " Epoch  16  train mse :  1.2652909\t valid mse :  1.33287226034 16  train mse :  1.2807336\n",
      " Epoch  17  train mse :  1.3034959\t valid mse :  1.3303921212 train mse :  1.31877181.303978\n",
      " Epoch  18  train mse :  1.2853982\t valid mse :  1.330287518381.2926835\n",
      " Epoch  19  train mse :  1.3162426\t valid mse :  1.3300321\n"
     ]
    }
   ],
   "source": [
    "\n",
    "# 自定义\n",
    "\n",
    "for epoch in range(epochs):\n",
    "    # 重置状态, 防止累积计算均方差\n",
    "    metric.reset_states()\n",
    "    for step in range(steps_per_epoch):\n",
    "        # 获取指定batch_size 的随机训练数据\n",
    "        x_batch, y_batch = random_batch(x_train_scaled, y_train, batch_size)\n",
    "        with tf.GradientTape() as tape:\n",
    "            # 预测\n",
    "            y_pred = model(x_batch)\n",
    "            # 计算loss均值\n",
    "            loss = tf.reduce_mean(keras.losses.mean_squared_error(y_batch, y_pred))\n",
    "            metric(y_batch, y_pred)\n",
    "        # ?\n",
    "        grads = tape.gradient(loss, model.variables)\n",
    "\n",
    "        # 绑定 梯度 和 模型变量\n",
    "        grads_and_vars = zip(grads, model.variables)\n",
    "        # 更新参数\n",
    "        optimizer.apply_gradients(grads_and_vars) # apply_gradients([(梯度值, 变量)])\n",
    "        # 打印结果\n",
    "        print(\"\\r Epoch \", epoch, \" train mse : \", metric.result().numpy(), end=\"\")\n",
    "    # 验证集\n",
    "    y_valid_pred = model(x_valid_scaled)\n",
    "    valid_loss = tf.reduce_mean(keras.losses.mean_squared_error(y_valid, y_valid_pred))\n",
    "    print(\"\\t\" , \"valid mse : \", valid_loss.numpy())"
   ],
   "metadata": {
    "collapsed": false,
    "pycharm": {
     "name": "#%%\n"
    }
   }
  }
 ],
 "metadata": {
  "kernelspec": {
   "display_name": "Python 3 (ipykernel)",
   "language": "python",
   "name": "python3"
  },
  "language_info": {
   "codemirror_mode": {
    "name": "ipython",
    "version": 3
   },
   "file_extension": ".py",
   "mimetype": "text/x-python",
   "name": "python",
   "nbconvert_exporter": "python",
   "pygments_lexer": "ipython3",
   "version": "3.7.11"
  }
 },
 "nbformat": 4,
 "nbformat_minor": 1
}