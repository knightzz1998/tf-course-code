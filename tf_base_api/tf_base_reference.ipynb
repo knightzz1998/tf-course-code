{
 "cells": [
  {
   "cell_type": "markdown",
   "metadata": {
    "collapsed": true,
    "pycharm": {
     "name": "#%% md\n"
    }
   },
   "source": [
    "## 1. Tensorflow 基础数据类型\n",
    "\n",
    "- 基础数据类型\n",
    "    1. tf.constant\n",
    "    2. tf.string\n",
    "    3. tf.ragged.constant, tf.SpareTensor, tf.Variable\n",
    "- 自定义损失函数\n",
    "    1. tf.reduce_mean\n",
    "- 自定义层次\n",
    "    1. keras.layers.lambda\n",
    "    2. 继承法\n",
    "- TF.function\n",
    "    1. tf.function\n",
    "    2. tf.autograph.to_code\n",
    "    3. get_concrete_function\n",
    "- GraphDef\n",
    "    1. get_operations\n",
    "    2. get_operation_by_name\n",
    "    3. get_tensor_by_name\n",
    "    4. as_graph_def\n",
    "- 自动求导\n",
    "    1. tf.GradientTape\n",
    "    2. optimzier.apply_gradients"
   ]
  },
  {
   "cell_type": "code",
   "execution_count": 73,
   "outputs": [
    {
     "name": "stderr",
     "output_type": "stream",
     "text": [
      "UsageError: Line magic function `%` not found.\n"
     ]
    }
   ],
   "source": [
    "import matplotlib as mpl\n",
    "import matplotlib.pyplot as plt\n",
    "% matplotlib inline\n",
    "import numpy as np\n",
    "import sklearn\n",
    "import pandas as pd\n",
    "import os\n",
    "import sys\n",
    "import time\n",
    "import tensorflow as tf\n",
    "\n",
    "from tensorflow import keras\n",
    "\n",
    "print(tf.__version__)\n",
    "print(sys.version_info)\n",
    "for module in mpl, np, pd, sklearn, tf, keras:\n",
    "    print(module.__name__, module.__version__)"
   ],
   "metadata": {
    "collapsed": false,
    "pycharm": {
     "name": "#%%\n"
    }
   }
  },
  {
   "cell_type": "markdown",
   "source": [
    "### 1. tf.constant"
   ],
   "metadata": {
    "collapsed": false,
    "pycharm": {
     "name": "#%% md\n"
    }
   }
  },
  {
   "cell_type": "markdown",
   "source": [
    "#### 1.1 常量的定义以及索引操作"
   ],
   "metadata": {
    "collapsed": false
   }
  },
  {
   "cell_type": "code",
   "execution_count": 74,
   "outputs": [
    {
     "name": "stdout",
     "output_type": "stream",
     "text": [
      "tf.Tensor(\n",
      "[[1. 2. 3.]\n",
      " [4. 5. 6.]], shape=(2, 3), dtype=float32)\n",
      "tf.Tensor(\n",
      "[[2. 3.]\n",
      " [5. 6.]], shape=(2, 2), dtype=float32)\n",
      "tf.Tensor([2. 5.], shape=(2,), dtype=float32)\n"
     ]
    }
   ],
   "source": [
    "# 定义常量\n",
    "t = tf.constant([[1., 2., 3., ], [4., 5., 6.]])\n",
    "\n",
    "# tensorflow 的索引\n",
    "print(t)\n",
    "# 打印 从第二列开始到最后一列的数据\n",
    "print(t[:, 1:])\n",
    "# 获取第二列的数据\n",
    "print(t[..., 1])"
   ],
   "metadata": {
    "collapsed": false,
    "pycharm": {
     "name": "#%%\n"
    }
   }
  },
  {
   "cell_type": "markdown",
   "source": [
    "#### 1.2  tensorflow 的基本操作"
   ],
   "metadata": {
    "collapsed": false,
    "pycharm": {
     "name": "#%% md\n"
    }
   }
  },
  {
   "cell_type": "code",
   "execution_count": 75,
   "outputs": [
    {
     "name": "stdout",
     "output_type": "stream",
     "text": [
      "tf.Tensor(\n",
      "[[11. 12. 13.]\n",
      " [14. 15. 16.]], shape=(2, 3), dtype=float32)\n",
      "tf.Tensor(\n",
      "[[ 1.  4.  9.]\n",
      " [16. 25. 36.]], shape=(2, 3), dtype=float32)\n",
      "tf.Tensor(\n",
      "[[14. 32.]\n",
      " [32. 77.]], shape=(2, 2), dtype=float32)\n"
     ]
    }
   ],
   "source": [
    "# tensorflow 的基本操作\n",
    "print(t + 10)  # tensor 中的每个数据都加10\n",
    "print(tf.square(t))  # 对t中的每个数据求平方\n",
    "print(t @ tf.transpose(t))  # t 和他的转置相乘 (2,3) * (3,2)"
   ],
   "metadata": {
    "collapsed": false,
    "pycharm": {
     "name": "#%%\n"
    }
   }
  },
  {
   "cell_type": "markdown",
   "source": [
    "#### 1.3 tf和numpy的相互转换"
   ],
   "metadata": {
    "collapsed": false,
    "pycharm": {
     "name": "#%% md\n"
    }
   }
  },
  {
   "cell_type": "code",
   "execution_count": 76,
   "outputs": [
    {
     "name": "stdout",
     "output_type": "stream",
     "text": [
      "[[1. 2. 3.]\n",
      " [4. 5. 6.]]\n",
      "tf.Tensor(\n",
      "[[ 1.  4.  9.]\n",
      " [16. 25. 36.]], shape=(2, 3), dtype=float32)\n",
      "tf.Tensor(\n",
      "[[1. 2. 3.]\n",
      " [4. 5. 6.]], shape=(2, 3), dtype=float64)\n"
     ]
    }
   ],
   "source": [
    "print(t.numpy())\n",
    "print(tf.square(t))\n",
    "\n",
    "np_t = np.array([[1., 2., 3.], [4., 5., 6.]])\n",
    "print(tf.constant(np_t))"
   ],
   "metadata": {
    "collapsed": false,
    "pycharm": {
     "name": "#%%\n"
    }
   }
  },
  {
   "cell_type": "markdown",
   "source": [
    "#### 1.4 标量"
   ],
   "metadata": {
    "collapsed": false,
    "pycharm": {
     "name": "#%% md\n"
    }
   }
  },
  {
   "cell_type": "code",
   "execution_count": 77,
   "outputs": [
    {
     "name": "stdout",
     "output_type": "stream",
     "text": [
      "tf.Tensor(3.2, shape=(), dtype=float32)\n",
      "3.2\n",
      "()\n"
     ]
    }
   ],
   "source": [
    "# 定义标量(标量一般是0维的)\n",
    "t = tf.constant(3.2)\n",
    "print(t)\n",
    "print(t.numpy())\n",
    "print(t.shape)"
   ],
   "metadata": {
    "collapsed": false,
    "pycharm": {
     "name": "#%%\n"
    }
   }
  },
  {
   "cell_type": "markdown",
   "source": [
    "### 2. tf.string和ragged_tensor"
   ],
   "metadata": {
    "collapsed": false,
    "pycharm": {
     "name": "#%% md\n"
    }
   }
  },
  {
   "cell_type": "markdown",
   "source": [
    "#### 2.1 string存储"
   ],
   "metadata": {
    "collapsed": false,
    "pycharm": {
     "name": "#%% md\n"
    }
   }
  },
  {
   "cell_type": "code",
   "execution_count": 78,
   "outputs": [
    {
     "name": "stdout",
     "output_type": "stream",
     "text": [
      "tf.Tensor(b'hello', shape=(), dtype=string)\n",
      "tf.Tensor(5, shape=(), dtype=int32)\n",
      "tf.Tensor(5, shape=(), dtype=int32)\n",
      "tf.Tensor([104 101 108 108 111], shape=(5,), dtype=int32)\n"
     ]
    }
   ],
   "source": [
    "t = tf.constant(\"hello\")\n",
    "print(t)\n",
    "\n",
    "# 打印字符的长度\n",
    "print(tf.strings.length(t))\n",
    "# unit : BYTE(默认)\n",
    "print(tf.strings.length(t, unit=\"UTF8_CHAR\"))\n",
    "# 将数据转换成 unicode 数组\n",
    "print(tf.strings.unicode_decode(t, \"UTF8\"))"
   ],
   "metadata": {
    "collapsed": false,
    "pycharm": {
     "name": "#%%\n"
    }
   }
  },
  {
   "cell_type": "code",
   "execution_count": 79,
   "outputs": [
    {
     "name": "stdout",
     "output_type": "stream",
     "text": [
      "tf.Tensor([5 5 2], shape=(3,), dtype=int32)\n",
      "<tf.RaggedTensor [[99, 97, 102, 102, 101], [119, 111, 114, 108, 100], [20320, 22909]]>\n"
     ]
    }
   ],
   "source": [
    "# string array\n",
    "t = tf.constant([\"caffe\", \"world\", \"你好\"])\n",
    "# 返回字符长度\n",
    "print(tf.strings.length(t, unit=\"UTF8_CHAR\"))\n",
    "# 返回 unicode 字符数组\n",
    "u_t = tf.strings.unicode_decode(t, input_encoding=\"UTF8\")\n",
    "print(u_t)"
   ],
   "metadata": {
    "collapsed": false,
    "pycharm": {
     "name": "#%%\n"
    }
   }
  },
  {
   "cell_type": "markdown",
   "source": [
    "#### 2.2 非定长数组TaggedTensor"
   ],
   "metadata": {
    "collapsed": false,
    "pycharm": {
     "name": "#%% md\n"
    }
   }
  },
  {
   "cell_type": "code",
   "execution_count": 80,
   "outputs": [
    {
     "name": "stdout",
     "output_type": "stream",
     "text": [
      "<tf.RaggedTensor [[1.0, 2.0], [4.0, 5.0, 6.0], [], [7.0, 8.0]]>\n",
      "(4, None)\n",
      "tf.Tensor([4. 5. 6.], shape=(3,), dtype=float32)\n",
      "<tf.RaggedTensor [[4.0, 5.0, 6.0], []]>\n",
      "tf.Tensor(6.0, shape=(), dtype=float32)\n"
     ]
    }
   ],
   "source": [
    "# ragged tensor => 不等长数组\n",
    "# tf.ragged.constant 创建非定长的数组\n",
    "r = tf.ragged.constant([[1, 2], [4, 5, 6], [], [7, 8]], dtype=tf.float32)\n",
    "print(r)\n",
    "print(r.shape)\n",
    "# index , 不能将等长的数组的索引方式用在非等长的索引\n",
    "print(r[1])\n",
    "print(r[1:3])\n",
    "print(r[1, 2])"
   ],
   "metadata": {
    "collapsed": false,
    "pycharm": {
     "name": "#%%\n"
    }
   }
  },
  {
   "cell_type": "markdown",
   "source": [
    "#### 2.3 非定长数组的合并"
   ],
   "metadata": {
    "collapsed": false,
    "pycharm": {
     "name": "#%% md\n"
    }
   }
  },
  {
   "cell_type": "code",
   "execution_count": 81,
   "outputs": [
    {
     "name": "stdout",
     "output_type": "stream",
     "text": [
      "<tf.RaggedTensor [[1.0, 2.0], [4.0, 5.0, 6.0], [], [7.0, 8.0], [1.0, 3.0], [4.0, 5.0, 6.0]]>\n"
     ]
    }
   ],
   "source": [
    "# 非定长数组的合并\n",
    "r2 = tf.ragged.constant([[1, 3], [4, 5, 6]], dtype=tf.float32)\n",
    "# 在行上合并r 和 r2, axis = 0 表示x轴(即行)\n",
    "print(tf.concat([r, r2], axis=0))"
   ],
   "metadata": {
    "collapsed": false,
    "pycharm": {
     "name": "#%%\n"
    }
   }
  },
  {
   "cell_type": "code",
   "execution_count": 82,
   "outputs": [
    {
     "name": "stdout",
     "output_type": "stream",
     "text": [
      "(4, None)\n",
      "(4, None)\n",
      "<tf.RaggedTensor [[1.0, 2.0, 1.0, 3.0], [4.0, 5.0, 6.0, 4.0, 5.0, 6.0], [1.0], [7.0, 8.0, 2.0]]>\n"
     ]
    }
   ],
   "source": [
    "# 在列上合并\n",
    "r3 = tf.ragged.constant([[1, 3], [4, 5, 6], [1], [2]], dtype=tf.float32)\n",
    "# 列合并要求 shape 相同\n",
    "print(r.shape)\n",
    "print(r3.shape)\n",
    "print(tf.concat([r, r3], axis=1))"
   ],
   "metadata": {
    "collapsed": false,
    "pycharm": {
     "name": "#%%\n"
    }
   }
  },
  {
   "cell_type": "markdown",
   "source": [
    "#### 2.4 RaggedTensor转Tensor"
   ],
   "metadata": {
    "collapsed": false,
    "pycharm": {
     "name": "#%% md\n"
    }
   }
  },
  {
   "cell_type": "code",
   "execution_count": 83,
   "outputs": [
    {
     "name": "stdout",
     "output_type": "stream",
     "text": [
      "tf.Tensor(\n",
      "[[1. 3. 0.]\n",
      " [4. 5. 6.]\n",
      " [1. 0. 0.]\n",
      " [2. 0. 0.]], shape=(4, 3), dtype=float32)\n"
     ]
    }
   ],
   "source": [
    "# 对每行的数据进行对齐, 不足是使用0代替\n",
    "# 注意 RaggedTensor 会把0值放到非0值的后面\n",
    "print(r3.to_tensor())"
   ],
   "metadata": {
    "collapsed": false,
    "pycharm": {
     "name": "#%%\n"
    }
   }
  },
  {
   "cell_type": "markdown",
   "source": [
    "### 3. SparseTensor和tf.Variable\n",
    "\n",
    "- Note :\n",
    "  1. RaggedTensor 会把0值放到非0值的后面, 有一些情况下我们需要把0值放到非0值前面, 所以不能使用 RaggedTensor\n",
    "  2. 如果一个矩阵中大部分值都是 0, 少部分是非0值, 我们可以使用 SparseTensor, 只需要记录非0值的index即可\n",
    "  3. 类似于稀疏矩阵\n",
    "\n"
   ],
   "metadata": {
    "collapsed": false,
    "pycharm": {
     "name": "#%% md\n"
    }
   }
  },
  {
   "cell_type": "markdown",
   "source": [
    "#### 3.1 SparseTensor的创建\n",
    "\n",
    "- tf.SparseTensor()\n",
    "    1. indices : 非0值的位置\n",
    "    2. values : 实际的非0值\n",
    "    3. dense_shape: SparseTensor的shape"
   ],
   "metadata": {
    "collapsed": false
   }
  },
  {
   "cell_type": "code",
   "execution_count": 84,
   "outputs": [
    {
     "name": "stdout",
     "output_type": "stream",
     "text": [
      "SparseTensor(indices=tf.Tensor(\n",
      "[[0 1]\n",
      " [1 0]\n",
      " [2 3]], shape=(3, 2), dtype=int64), values=tf.Tensor([1 2 3], shape=(3,), dtype=int32), dense_shape=tf.Tensor([3 4], shape=(2,), dtype=int64))\n",
      "tf.Tensor(\n",
      "[[0 1 0 0]\n",
      " [2 0 0 0]\n",
      " [0 0 0 3]], shape=(3, 4), dtype=int32)\n"
     ]
    }
   ],
   "source": [
    "s = tf.SparseTensor(\n",
    "    indices=[[0, 1], [1, 0], [2, 3]],  # 非0值的位置\n",
    "    values=[1, 2, 3],  # 实际的值\n",
    "    dense_shape=[3, 4]\n",
    ")\n",
    "print(s)\n",
    "# 转成 tensor\n",
    "print(tf.sparse.to_dense(s))"
   ],
   "metadata": {
    "collapsed": false,
    "pycharm": {
     "name": "#%%\n"
    }
   }
  },
  {
   "cell_type": "markdown",
   "source": [
    "#### 3.2 SparseTensor基本操作\n",
    "\n",
    "- Notes :\n",
    "    1. SparseTensor无法做加法操作\n",
    "    2. SparseTensor的indices必须是排好序的, 如果没有排序使用 to_dense 报错, 可以使用 tf.sparse.reorder(s) 解决"
   ],
   "metadata": {
    "collapsed": false
   }
  },
  {
   "cell_type": "code",
   "execution_count": 85,
   "outputs": [
    {
     "name": "stdout",
     "output_type": "stream",
     "text": [
      "SparseTensor(indices=tf.Tensor(\n",
      "[[1 1]\n",
      " [0 2]\n",
      " [1 3]], shape=(3, 2), dtype=int64), values=tf.Tensor([3 4 6], shape=(3,), dtype=int32), dense_shape=tf.Tensor([3 4], shape=(2,), dtype=int64))\n",
      "tf.Tensor(\n",
      "[[0 0 4 0]\n",
      " [0 3 0 6]\n",
      " [0 0 0 0]], shape=(3, 4), dtype=int32)\n"
     ]
    }
   ],
   "source": [
    "s1 = tf.SparseTensor(\n",
    "    indices=[[1, 1], [0, 2], [1, 3]],\n",
    "    values=[3, 4, 6],\n",
    "    dense_shape=[3, 4]\n",
    ")\n",
    "print(s1)\n",
    "# 如果 indices 不是排好序的, 那么就需要排序后才能to_dense\n",
    "s2 = tf.sparse.reorder(s1)\n",
    "print(tf.sparse.to_dense(s2))"
   ],
   "metadata": {
    "collapsed": false,
    "pycharm": {
     "name": "#%%\n"
    }
   }
  },
  {
   "cell_type": "code",
   "execution_count": 86,
   "outputs": [
    {
     "name": "stdout",
     "output_type": "stream",
     "text": [
      "SparseTensor(indices=tf.Tensor(\n",
      "[[0 2]\n",
      " [1 1]\n",
      " [1 3]], shape=(3, 2), dtype=int64), values=tf.Tensor([ 80  60 120], shape=(3,), dtype=int32), dense_shape=tf.Tensor([3 4], shape=(2,), dtype=int64))\n",
      "unsupported operand type(s) for +: 'SparseTensor' and 'int'\n",
      "tf.Tensor(\n",
      "[[0 1 0 0]\n",
      " [2 0 0 0]\n",
      " [0 0 0 3]], shape=(3, 4), dtype=int32)\n",
      "tf.Tensor(\n",
      "[[1 1 1]\n",
      " [1 1 1]\n",
      " [1 1 1]\n",
      " [1 1 1]], shape=(4, 3), dtype=int32)\n",
      "tf.Tensor(\n",
      "[[1 1 1]\n",
      " [2 2 2]\n",
      " [3 3 3]], shape=(3, 3), dtype=int32)\n"
     ]
    }
   ],
   "source": [
    "s3 = s2 * 20\n",
    "print(s3)\n",
    "\n",
    "# 加法操作会报错 unsupported operand type(s) for +: 'SparseTensor' and 'int'\n",
    "try:\n",
    "    s3 = s2 + 1\n",
    "except TypeError as ex:\n",
    "    print(ex)\n",
    "\n",
    "# 和密集矩阵相乘, 注意dtype要相同\n",
    "s4 = tf.constant(np.ones(shape=[4, 3]), dtype=tf.int32)\n",
    "print(tf.sparse.to_dense(s))\n",
    "print(s4)\n",
    "print(tf.sparse.sparse_dense_matmul(s, s4))"
   ],
   "metadata": {
    "collapsed": false,
    "pycharm": {
     "name": "#%%\n"
    }
   }
  },
  {
   "cell_type": "markdown",
   "source": [
    "#### 3.3 Variables(变量)"
   ],
   "metadata": {
    "collapsed": false,
    "pycharm": {
     "name": "#%% md\n"
    }
   }
  },
  {
   "cell_type": "code",
   "execution_count": 88,
   "outputs": [
    {
     "name": "stdout",
     "output_type": "stream",
     "text": [
      "<tf.Variable 'Variable:0' shape=(2, 3) dtype=float32, numpy=\n",
      "array([[1., 2., 3.],\n",
      "       [4., 5., 6.]], dtype=float32)>\n",
      "tf.Tensor(\n",
      "[[1. 2. 3.]\n",
      " [4. 5. 6.]], shape=(2, 3), dtype=float32)\n",
      "[[1. 2. 3.]\n",
      " [4. 5. 6.]]\n"
     ]
    }
   ],
   "source": [
    "# 定义Variable\n",
    "v = tf.Variable([[1, 2, 3], [4, 5, 6]], dtype=tf.float32)\n",
    "print(v)\n",
    "print(v.value())  # 返回Tensor\n",
    "print(v.numpy())"
   ],
   "metadata": {
    "collapsed": false,
    "pycharm": {
     "name": "#%%\n"
    }
   }
  },
  {
   "cell_type": "markdown",
   "source": [
    "#### 3.4 修改变量\n",
    "\n",
    "- 修改变量只能用 v.assign的方式"
   ],
   "metadata": {
    "collapsed": false,
    "pycharm": {
     "name": "#%% md\n"
    }
   }
  },
  {
   "cell_type": "code",
   "execution_count": 93,
   "outputs": [
    {
     "name": "stdout",
     "output_type": "stream",
     "text": [
      "[[  32. 1992.   96.]\n",
      " [ 128.  160.  192.]]\n",
      "[[ 32. 996.  96.]\n",
      " [128. 160. 192.]]\n",
      "[[ 32. 996.  96.]\n",
      " [  6.   6.   6.]]\n"
     ]
    }
   ],
   "source": [
    "v.assign(2 * v)\n",
    "print(v.numpy())\n",
    "v[0, 1].assign(996)\n",
    "print(v.numpy())\n",
    "v[1].assign([6, 6, 6])\n",
    "print(v.numpy())"
   ],
   "metadata": {
    "collapsed": false,
    "pycharm": {
     "name": "#%%\n"
    }
   }
  },
  {
   "cell_type": "code",
   "execution_count": 95,
   "outputs": [
    {
     "name": "stdout",
     "output_type": "stream",
     "text": [
      "'ResourceVariable' object does not support item assignment\n"
     ]
    }
   ],
   "source": [
    "# 直接用 = 赋值会报错\n",
    "try:\n",
    "    v[1] = [7., 8., 9.]\n",
    "except TypeError as ex:\n",
    "    print(ex)"
   ],
   "metadata": {
    "collapsed": false,
    "pycharm": {
     "name": "#%%\n"
    }
   }
  },
  {
   "cell_type": "code",
   "execution_count": null,
   "outputs": [],
   "source": [],
   "metadata": {
    "collapsed": false,
    "pycharm": {
     "name": "#%%\n"
    }
   }
  }
 ],
 "metadata": {
  "kernelspec": {
   "display_name": "Python 3",
   "language": "python",
   "name": "python3"
  },
  "language_info": {
   "codemirror_mode": {
    "name": "ipython",
    "version": 2
   },
   "file_extension": ".py",
   "mimetype": "text/x-python",
   "name": "python",
   "nbconvert_exporter": "python",
   "pygments_lexer": "ipython2",
   "version": "2.7.6"
  }
 },
 "nbformat": 4,
 "nbformat_minor": 0
}