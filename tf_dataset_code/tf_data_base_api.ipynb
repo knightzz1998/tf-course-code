{
 "cells": [
  {
   "cell_type": "markdown",
   "metadata": {
    "collapsed": true,
    "pycharm": {
     "name": "#%% md\n"
    }
   },
   "source": [
    "## Tensorflow Dataset 基础API\n",
    "\n",
    "- tf.train.FloatList\n",
    "- tf.train.Int64List\n",
    "- tf.train.BytesList\n",
    "- tf.train.Feature\n",
    "- tf.train.Features\n",
    "- tf.train.Example\n",
    "- example.SerializeToString\n",
    "- tf.io.ParseSingleExample\n",
    "- tf.io.VarLenFeature\n",
    "- tf.io.FixedLenFeature\n",
    "- tf.data.TFRecordDataset\n",
    "- tf.io.TFRecordOptions"
   ]
  },
  {
   "cell_type": "code",
   "execution_count": 1,
   "outputs": [
    {
     "name": "stdout",
     "output_type": "stream",
     "text": [
      "2.3.0\n",
      "sys.version_info(major=3, minor=7, micro=11, releaselevel='final', serial=0)\n",
      "matplotlib 3.4.3\n",
      "numpy 1.18.5\n",
      "pandas 1.3.2\n",
      "sklearn 0.24.2\n",
      "tensorflow 2.3.0\n",
      "tensorflow.keras 2.4.0\n"
     ]
    }
   ],
   "source": [
    "import matplotlib as mpl\n",
    "import matplotlib.pyplot as plt\n",
    "% matplotlib inline\n",
    "import numpy as np\n",
    "import sklearn\n",
    "import pandas as pd\n",
    "import os\n",
    "import sys\n",
    "import time\n",
    "import tensorflow as tf\n",
    "\n",
    "from tensorflow import keras\n",
    "\n",
    "print(tf.__version__)\n",
    "print(sys.version_info)\n",
    "for module in mpl, np, pd, sklearn, tf, keras:\n",
    "    print(module.__name__, module.__version__)"
   ],
   "metadata": {
    "collapsed": false,
    "pycharm": {
     "name": "#%%\n"
    }
   }
  },
  {
   "cell_type": "markdown",
   "source": [
    "### 1. 创建数据集"
   ],
   "metadata": {
    "collapsed": false
   }
  },
  {
   "cell_type": "markdown",
   "source": [
    "#### 1.1 创建数据集"
   ],
   "metadata": {
    "collapsed": false
   }
  },
  {
   "cell_type": "code",
   "execution_count": 7,
   "outputs": [
    {
     "name": "stdout",
     "output_type": "stream",
     "text": [
      "<TensorSliceDataset shapes: (), types: tf.int32>\n"
     ]
    }
   ],
   "source": [
    "dataset = tf.data.Dataset.from_tensor_slices(np.arange(6));\n",
    "print(dataset)"
   ],
   "metadata": {
    "collapsed": false,
    "pycharm": {
     "name": "#%%\n"
    }
   }
  },
  {
   "cell_type": "code",
   "execution_count": 8,
   "outputs": [
    {
     "name": "stdout",
     "output_type": "stream",
     "text": [
      "tf.Tensor(0, shape=(), dtype=int32)\n",
      "tf.Tensor(1, shape=(), dtype=int32)\n",
      "tf.Tensor(2, shape=(), dtype=int32)\n",
      "tf.Tensor(3, shape=(), dtype=int32)\n",
      "tf.Tensor(4, shape=(), dtype=int32)\n",
      "tf.Tensor(5, shape=(), dtype=int32)\n"
     ]
    }
   ],
   "source": [
    "for item in dataset:\n",
    "    print(item)"
   ],
   "metadata": {
    "collapsed": false,
    "pycharm": {
     "name": "#%%\n"
    }
   }
  },
  {
   "cell_type": "markdown",
   "source": [
    "#### 1.2 repeat 和 batch\n",
    "\n",
    "- repeat(n) : 重复遍历 n 次dataset, 每次都会返回新的dataset, 返回3个dataset\n",
    "- batch(size): 返回指定 size 的数据, 在模型训练的时候, 不会一下子将所有的数据读取进模型训练, 而是分批次训练"
   ],
   "metadata": {
    "collapsed": false,
    "pycharm": {
     "name": "#%% md\n"
    }
   }
  },
  {
   "cell_type": "code",
   "execution_count": 17,
   "outputs": [
    {
     "name": "stdout",
     "output_type": "stream",
     "text": [
      "tf.Tensor(0, shape=(), dtype=int32)\n",
      "tf.Tensor(1, shape=(), dtype=int32)\n",
      "tf.Tensor(0, shape=(), dtype=int32)\n",
      "tf.Tensor(1, shape=(), dtype=int32)\n",
      "tf.Tensor(0, shape=(), dtype=int32)\n",
      "tf.Tensor(1, shape=(), dtype=int32)\n"
     ]
    }
   ],
   "source": [
    "dataset = tf.data.Dataset.from_tensor_slices(np.arange(2))\n",
    "dataset = dataset.repeat(3)\n",
    "for item in dataset:\n",
    "    print(item)"
   ],
   "metadata": {
    "collapsed": false,
    "pycharm": {
     "name": "#%%\n"
    }
   }
  },
  {
   "cell_type": "code",
   "execution_count": 22,
   "outputs": [
    {
     "name": "stdout",
     "output_type": "stream",
     "text": [
      "tf.Tensor([0 1 2 3 4], shape=(5,), dtype=int32)\n",
      "tf.Tensor([5 0 1 2 3], shape=(5,), dtype=int32)\n",
      "tf.Tensor([4 5 0 1 2], shape=(5,), dtype=int32)\n",
      "tf.Tensor([3 4 5], shape=(3,), dtype=int32)\n"
     ]
    }
   ],
   "source": [
    "# 指定批次的数据\n",
    "dataset = tf.data.Dataset.from_tensor_slices(np.arange(6))\n",
    "dataset = dataset.repeat(3).batch(5)\n",
    "for item in dataset:\n",
    "    print(item)"
   ],
   "metadata": {
    "collapsed": false,
    "pycharm": {
     "name": "#%%\n"
    }
   }
  },
  {
   "cell_type": "markdown",
   "source": [
    "#### 1.3 interleave 生成数据集\n",
    "\n",
    "- dataset.interleave :\n",
    "    1. 通过对数据集进行处理\n",
    "    2. 生成新的数据集\n",
    "- 参数 :\n",
    "    1. cycle_length\n",
    "    2. block_length"
   ],
   "metadata": {
    "collapsed": false,
    "pycharm": {
     "name": "#%% md\n"
    }
   }
  },
  {
   "cell_type": "code",
   "execution_count": 29,
   "outputs": [
    {
     "name": "stdout",
     "output_type": "stream",
     "text": [
      "tf.Tensor(0, shape=(), dtype=int32)\n",
      "tf.Tensor(1, shape=(), dtype=int32)\n",
      "tf.Tensor(2, shape=(), dtype=int32)\n",
      "tf.Tensor(5, shape=(), dtype=int32)\n",
      "tf.Tensor(0, shape=(), dtype=int32)\n",
      "tf.Tensor(1, shape=(), dtype=int32)\n",
      "tf.Tensor(4, shape=(), dtype=int32)\n",
      "tf.Tensor(5, shape=(), dtype=int32)\n",
      "tf.Tensor(0, shape=(), dtype=int32)\n",
      "tf.Tensor(3, shape=(), dtype=int32)\n",
      "tf.Tensor(4, shape=(), dtype=int32)\n",
      "tf.Tensor(5, shape=(), dtype=int32)\n",
      "tf.Tensor(3, shape=(), dtype=int32)\n",
      "tf.Tensor(4, shape=(), dtype=int32)\n",
      "tf.Tensor(2, shape=(), dtype=int32)\n",
      "tf.Tensor(3, shape=(), dtype=int32)\n",
      "tf.Tensor(1, shape=(), dtype=int32)\n",
      "tf.Tensor(2, shape=(), dtype=int32)\n"
     ]
    }
   ],
   "source": [
    "dataset_inter = dataset.interleave(\n",
    "    lambda x: tf.data.Dataset.from_tensor_slices(x),  # map_func\n",
    "    cycle_length=5,\n",
    "    block_length=3\n",
    ")\n",
    "\n",
    "for element in dataset_inter:\n",
    "    print(element)"
   ],
   "metadata": {
    "collapsed": false,
    "pycharm": {
     "name": "#%%\n"
    }
   }
  },
  {
   "cell_type": "markdown",
   "source": [
    "#### 1.4 使用元组创建数据集"
   ],
   "metadata": {
    "collapsed": false,
    "pycharm": {
     "name": "#%% md\n"
    }
   }
  },
  {
   "cell_type": "code",
   "execution_count": 36,
   "outputs": [
    {
     "name": "stdout",
     "output_type": "stream",
     "text": [
      "<TensorSliceDataset shapes: ((3,), ()), types: (tf.int32, tf.string)>\n",
      "\n",
      "tf.Tensor([1 2 3], shape=(3,), dtype=int32) tf.Tensor(b'dog', shape=(), dtype=string)\n",
      "[1 2 3] b'dog'\n",
      "\n",
      "tf.Tensor([4 5 6], shape=(3,), dtype=int32) tf.Tensor(b'cat', shape=(), dtype=string)\n",
      "[4 5 6] b'cat'\n",
      "\n",
      "tf.Tensor([7 8 9], shape=(3,), dtype=int32) tf.Tensor(b'block', shape=(), dtype=string)\n",
      "[7 8 9] b'block'\n",
      "\n"
     ]
    }
   ],
   "source": [
    "x = np.array([[1, 2, 3], [4, 5, 6], [7, 8, 9]])\n",
    "y = np.array([\"dog\", \"cat\", \"block\"])\n",
    "\n",
    "# 使用x, y 创建数据集 (x,y) => tuple()\n",
    "dataset = tf.data.Dataset.from_tensor_slices((x,y))\n",
    "print(dataset)\n",
    "print()\n",
    "\n",
    "# 遍历数据\n",
    "\n",
    "for item_x, item_y in dataset:\n",
    "    print(item_x, item_y)\n",
    "    print(item_x.numpy(), item_y.numpy())\n",
    "    print()"
   ],
   "metadata": {
    "collapsed": false,
    "pycharm": {
     "name": "#%%\n"
    }
   }
  },
  {
   "cell_type": "markdown",
   "source": [
    "#### 1.5 使用字典创建数据集"
   ],
   "metadata": {
    "collapsed": false,
    "pycharm": {
     "name": "#%% md\n"
    }
   }
  },
  {
   "cell_type": "code",
   "execution_count": 41,
   "outputs": [
    {
     "name": "stdout",
     "output_type": "stream",
     "text": [
      "{'feature': <tf.Tensor: shape=(3,), dtype=int32, numpy=array([1, 2, 3])>, 'label': <tf.Tensor: shape=(), dtype=string, numpy=b'dog'>}\n",
      "tf.Tensor([1 2 3], shape=(3,), dtype=int32) tf.Tensor(b'dog', shape=(), dtype=string) \n",
      "\n",
      "{'feature': <tf.Tensor: shape=(3,), dtype=int32, numpy=array([4, 5, 6])>, 'label': <tf.Tensor: shape=(), dtype=string, numpy=b'cat'>}\n",
      "tf.Tensor([4 5 6], shape=(3,), dtype=int32) tf.Tensor(b'cat', shape=(), dtype=string) \n",
      "\n",
      "{'feature': <tf.Tensor: shape=(3,), dtype=int32, numpy=array([7, 8, 9])>, 'label': <tf.Tensor: shape=(), dtype=string, numpy=b'block'>}\n",
      "tf.Tensor([7 8 9], shape=(3,), dtype=int32) tf.Tensor(b'block', shape=(), dtype=string) \n",
      "\n"
     ]
    }
   ],
   "source": [
    "dataset_dict = tf.data.Dataset.from_tensor_slices({'feature': x, 'label': y})\n",
    "\n",
    "for element in dataset_dict:\n",
    "    print(element)\n",
    "    print(element['feature'], element['label'], '\\n')\n"
   ],
   "metadata": {
    "collapsed": false,
    "pycharm": {
     "name": "#%%\n"
    }
   }
  },
  {
   "cell_type": "markdown",
   "source": [
    "### 2. 生成 CSV 文件"
   ],
   "metadata": {
    "collapsed": false,
    "pycharm": {
     "name": "#%% md\n"
    }
   }
  },
  {
   "cell_type": "markdown",
   "source": [
    "#### 2.1 读取数据集"
   ],
   "metadata": {
    "collapsed": false,
    "pycharm": {
     "name": "#%% md\n"
    }
   }
  },
  {
   "cell_type": "code",
   "execution_count": 44,
   "outputs": [
    {
     "name": "stdout",
     "output_type": "stream",
     "text": [
      "(20640, 8) (20640,)\n"
     ]
    }
   ],
   "source": [
    "from sklearn.datasets import fetch_california_housing\n",
    "housing = fetch_california_housing()\n",
    "\n",
    "print(housing.data.shape, housing.target.shape)"
   ],
   "metadata": {
    "collapsed": false,
    "pycharm": {
     "name": "#%%\n"
    }
   }
  },
  {
   "cell_type": "code",
   "execution_count": 45,
   "outputs": [
    {
     "name": "stdout",
     "output_type": "stream",
     "text": [
      "(16512, 8) (16512,)\n",
      "(4128, 8) (4128,)\n"
     ]
    }
   ],
   "source": [
    "# 分割数据集\n",
    "from sklearn.model_selection import train_test_split\n",
    "\n",
    "# random_state 随机数种子\n",
    "# test_size : 测试集占的比例,范围是 0 ~ 1\n",
    "x_train_all, x_test, y_train_all, y_test = train_test_split(\n",
    "    housing['data'], housing['target'], test_size=0.2,random_state=22\n",
    ")\n",
    "\n",
    "print(x_train_all.shape , y_train_all.shape)\n",
    "print(x_test.shape , y_test.shape)"
   ],
   "metadata": {
    "collapsed": false,
    "pycharm": {
     "name": "#%%\n"
    }
   }
  },
  {
   "cell_type": "markdown",
   "source": [
    "####  2.2 生成CSV文件"
   ],
   "metadata": {
    "collapsed": false,
    "pycharm": {
     "name": "#%% md\n"
    }
   }
  },
  {
   "cell_type": "code",
   "execution_count": null,
   "outputs": [],
   "source": [],
   "metadata": {
    "collapsed": false,
    "pycharm": {
     "name": "#%%\n"
    }
   }
  }
 ],
 "metadata": {
  "kernelspec": {
   "display_name": "Python 3",
   "language": "python",
   "name": "python3"
  },
  "language_info": {
   "codemirror_mode": {
    "name": "ipython",
    "version": 2
   },
   "file_extension": ".py",
   "mimetype": "text/x-python",
   "name": "python",
   "nbconvert_exporter": "python",
   "pygments_lexer": "ipython2",
   "version": "2.7.6"
  }
 },
 "nbformat": 4,
 "nbformat_minor": 0
}